{
 "cells": [
  {
   "cell_type": "code",
   "execution_count": 2,
   "id": "4e331219",
   "metadata": {},
   "outputs": [],
   "source": [
    "import numpy as np\n",
    "import random\n",
    "import sys\n",
    "sys.path.append('..')\n",
    "from functions import *\n"
   ]
  },
  {
   "cell_type": "code",
   "execution_count": 3,
   "id": "c0937a7c",
   "metadata": {},
   "outputs": [],
   "source": [
    "def test_function(x):\n",
    "    return x\n",
    "\n",
    "LOWER_BOUND = 1\n",
    "UPPER_BOUND = 10\n",
    "ARRAY_LENGTH = 5"
   ]
  },
  {
   "cell_type": "code",
   "execution_count": 4,
   "id": "1977d6f0",
   "metadata": {},
   "outputs": [
    {
     "ename": "TypeError",
     "evalue": "Population must be a sequence.  For dicts or sets, use sorted(d).",
     "output_type": "error",
     "traceback": [
      "\u001b[31m---------------------------------------------------------------------------\u001b[39m",
      "\u001b[31mTypeError\u001b[39m                                 Traceback (most recent call last)",
      "\u001b[36mCell\u001b[39m\u001b[36m \u001b[39m\u001b[32mIn[4]\u001b[39m\u001b[32m, line 3\u001b[39m\n\u001b[32m      1\u001b[39m SAMPLE_SIZE = \u001b[32m100\u001b[39m\n\u001b[32m      2\u001b[39m samples = np.linspace(start=LOWER_BOUND, stop=UPPER_BOUND, num=ARRAY_LENGTH * SAMPLE_SIZE)\n\u001b[32m----> \u001b[39m\u001b[32m3\u001b[39m p_list = np.array(\u001b[43mrandom\u001b[49m\u001b[43m.\u001b[49m\u001b[43msample\u001b[49m\u001b[43m(\u001b[49m\u001b[43msamples\u001b[49m\u001b[43m,\u001b[49m\u001b[43m \u001b[49m\u001b[43mk\u001b[49m\u001b[43m=\u001b[49m\u001b[43mARRAY_LENGTH\u001b[49m\u001b[43m)\u001b[49m)\n",
      "\u001b[36mFile \u001b[39m\u001b[32m~\\scoop\\apps\\python\\current\\Lib\\random.py:417\u001b[39m, in \u001b[36mRandom.sample\u001b[39m\u001b[34m(self, population, k, counts)\u001b[39m\n\u001b[32m    393\u001b[39m \u001b[38;5;66;03m# Sampling without replacement entails tracking either potential\u001b[39;00m\n\u001b[32m    394\u001b[39m \u001b[38;5;66;03m# selections (the pool) in a list or previous selections in a set.\u001b[39;00m\n\u001b[32m    395\u001b[39m \n\u001b[32m   (...)\u001b[39m\u001b[32m    413\u001b[39m \u001b[38;5;66;03m# too many calls to _randbelow(), making them slower and\u001b[39;00m\n\u001b[32m    414\u001b[39m \u001b[38;5;66;03m# causing them to eat more entropy than necessary.\u001b[39;00m\n\u001b[32m    416\u001b[39m \u001b[38;5;28;01mif\u001b[39;00m \u001b[38;5;129;01mnot\u001b[39;00m \u001b[38;5;28misinstance\u001b[39m(population, _Sequence):\n\u001b[32m--> \u001b[39m\u001b[32m417\u001b[39m     \u001b[38;5;28;01mraise\u001b[39;00m \u001b[38;5;167;01mTypeError\u001b[39;00m(\u001b[33m\"\u001b[39m\u001b[33mPopulation must be a sequence.  \u001b[39m\u001b[33m\"\u001b[39m\n\u001b[32m    418\u001b[39m                     \u001b[33m\"\u001b[39m\u001b[33mFor dicts or sets, use sorted(d).\u001b[39m\u001b[33m\"\u001b[39m)\n\u001b[32m    419\u001b[39m n = \u001b[38;5;28mlen\u001b[39m(population)\n\u001b[32m    420\u001b[39m \u001b[38;5;28;01mif\u001b[39;00m counts \u001b[38;5;129;01mis\u001b[39;00m \u001b[38;5;129;01mnot\u001b[39;00m \u001b[38;5;28;01mNone\u001b[39;00m:\n",
      "\u001b[31mTypeError\u001b[39m: Population must be a sequence.  For dicts or sets, use sorted(d)."
     ]
    }
   ],
   "source": [
    "SAMPLE_SIZE = 100\n",
    "samples = np.linspace(start=LOWER_BOUND, stop=UPPER_BOUND, num=ARRAY_LENGTH * SAMPLE_SIZE)\n",
    "p_list = np.array(random.sample(samples, k=ARRAY_LENGTH))"
   ]
  },
  {
   "cell_type": "code",
   "execution_count": null,
   "id": "770e142d",
   "metadata": {},
   "outputs": [],
   "source": [
    "d"
   ]
  }
 ],
 "metadata": {
  "kernelspec": {
   "display_name": ".venv",
   "language": "python",
   "name": "python3"
  },
  "language_info": {
   "codemirror_mode": {
    "name": "ipython",
    "version": 3
   },
   "file_extension": ".py",
   "mimetype": "text/x-python",
   "name": "python",
   "nbconvert_exporter": "python",
   "pygments_lexer": "ipython3",
   "version": "3.13.2"
  }
 },
 "nbformat": 4,
 "nbformat_minor": 5
}
