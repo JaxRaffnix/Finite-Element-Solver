{
 "cells": [
  {
   "cell_type": "code",
   "execution_count": null,
   "id": "4e331219",
   "metadata": {},
   "outputs": [],
   "source": [
    "import numpy as np\n",
    "import random"
   ]
  },
  {
   "cell_type": "code",
   "execution_count": null,
   "id": "c0937a7c",
   "metadata": {},
   "outputs": [],
   "source": [
    "def test_function(x):\n",
    "    return x\n",
    "\n",
    "LOWER_BOUND = 1\n",
    "UPPER_BOUND = 10\n",
    "ARRAY_LENGTH = 5"
   ]
  },
  {
   "cell_type": "code",
   "execution_count": null,
   "id": "1977d6f0",
   "metadata": {},
   "outputs": [],
   "source": [
    "SAMPLE_SIZE = 100\n",
    "samples = np.linspace(start=LOWER_BOUND, stop=UPPER_BOUND, num=ARRAY_LENGTH * SAMPLE_SIZE)\n",
    "p_list = np.array(random.sample(samples, k=ARRAY_LENGTH))"
   ]
  }
 ],
 "metadata": {
  "kernelspec": {
   "display_name": ".venv",
   "language": "python",
   "name": "python3"
  },
  "language_info": {
   "name": "python",
   "version": "3.13.2"
  }
 },
 "nbformat": 4,
 "nbformat_minor": 5
}
