{
 "cells": [
  {
   "cell_type": "code",
   "execution_count": 1,
   "id": "4e331219",
   "metadata": {},
   "outputs": [],
   "source": [
    "import numpy as np\n",
    "import random\n",
    "import sys"
   ]
  },
  {
   "cell_type": "code",
   "execution_count": 2,
   "id": "c0937a7c",
   "metadata": {},
   "outputs": [],
   "source": [
    "def test_function(x):\n",
    "    return x\n",
    "\n",
    "LOWER_BOUND = 1\n",
    "UPPER_BOUND = 10\n",
    "ARRAY_LENGTH = 5"
   ]
  },
  {
   "cell_type": "code",
   "execution_count": 3,
   "id": "1977d6f0",
   "metadata": {},
   "outputs": [],
   "source": [
    "SAMPLE_SIZE = 100\n",
    "samples = np.linspace(start=LOWER_BOUND, stop=UPPER_BOUND, num=ARRAY_LENGTH * SAMPLE_SIZE)\n",
    "p_list = np.array(random.sample(list(samples), k=ARRAY_LENGTH))"
   ]
  }
 ],
 "metadata": {
  "kernelspec": {
   "display_name": ".venv",
   "language": "python",
   "name": "python3"
  },
  "language_info": {
   "codemirror_mode": {
    "name": "ipython",
    "version": 3
   },
   "file_extension": ".py",
   "mimetype": "text/x-python",
   "name": "python",
   "nbconvert_exporter": "python",
   "pygments_lexer": "ipython3",
   "version": "3.13.3"
  }
 },
 "nbformat": 4,
 "nbformat_minor": 5
}
