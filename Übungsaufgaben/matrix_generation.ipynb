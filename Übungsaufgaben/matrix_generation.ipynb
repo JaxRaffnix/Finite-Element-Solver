{
 "cells": [
  {
   "cell_type": "markdown",
   "id": "30717753",
   "metadata": {},
   "source": [
    "# Matrix Generator for FEM\n",
    "Given a certain differntial equation with boundary value condition, solve the the system using the alrogithm ??\n",
    "\n",
    "file:///G:/My%20Drive/HKA%20EITB/Semester%206/Methoden%20der%20Feldberechnung/GalerkinVerfahren.pdf, page 13\n",
    "\n",
    "## Task\n",
    "Differential Equation:\n",
    "$$\n",
    "-\\frac{d}{d x}\\left(x^2 \\frac{d \\Phi}{d x}\\right)+x \\Phi=-x^3\n",
    "$$\n",
    "boundary value condition:\n",
    "$$\n",
    "\\Phi(x=1)=2\\\\ \\Phi(x=2)=6\n",
    "$$\n"
   ]
  },
  {
   "cell_type": "code",
   "execution_count": 1,
   "id": "4e331219",
   "metadata": {},
   "outputs": [],
   "source": [
    "import numpy as np\n",
    "import random\n",
    "import sys"
   ]
  },
  {
   "cell_type": "code",
   "execution_count": null,
   "id": "c0937a7c",
   "metadata": {},
   "outputs": [],
   "source": [
    "def test_function(x):\n",
    "    return x\n",
    "\n",
    "# given from the boundary conditions:\n",
    "LOWER_BOUND = 2\n",
    "UPPER_BOUND = 6\n",
    "\n",
    "ARRAY_LENGTH = 5"
   ]
  },
  {
   "cell_type": "code",
   "execution_count": 3,
   "id": "1977d6f0",
   "metadata": {},
   "outputs": [],
   "source": [
    "SAMPLE_SIZE = 100\n",
    "samples = np.linspace(start=LOWER_BOUND, stop=UPPER_BOUND, num=ARRAY_LENGTH * SAMPLE_SIZE)\n",
    "p_list = np.array(random.sample(list(samples), k=ARRAY_LENGTH))"
   ]
  }
 ],
 "metadata": {
  "kernelspec": {
   "display_name": ".venv",
   "language": "python",
   "name": "python3"
  },
  "language_info": {
   "codemirror_mode": {
    "name": "ipython",
    "version": 3
   },
   "file_extension": ".py",
   "mimetype": "text/x-python",
   "name": "python",
   "nbconvert_exporter": "python",
   "pygments_lexer": "ipython3",
   "version": "3.13.3"
  }
 },
 "nbformat": 4,
 "nbformat_minor": 5
}
