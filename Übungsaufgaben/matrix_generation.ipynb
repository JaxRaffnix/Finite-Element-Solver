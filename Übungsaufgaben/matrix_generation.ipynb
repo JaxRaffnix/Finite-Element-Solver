{
 "cells": [
  {
   "cell_type": "markdown",
   "id": "30717753",
   "metadata": {},
   "source": [
    "# 1D Finite Element Solver\n",
    "We aim to solve a differential equation for a 1 dimensional case with the form\n",
    "$$\n",
    "- \\frac{\\partial}{\\partial x} \\alpha(x) \\cdot \\frac{\\partial \\Phi (x)}{\\partial x} + \\beta(x) \\cdot \\Phi (x)=f (x)\n",
    "$$\n",
    "with the galerkin method. Details can be found in the [lecture notes](\"G:\\My Drive\\HKA EITB\\Semester 6\\Methoden der Feldberechnung\\GalerkinVerfahren.pdf\"), page 13.\n",
    "\n",
    "To do so, we split the domain of the function given as boundary values in smaller parts and solve a linear equations system comprising all subdomains.\n",
    "\n",
    "\n",
    "## Exercise\n",
    "$$\n",
    "-\\frac{d}{d x}\\left(x^2 \\frac{d \\Phi}{d x}\\right)+x \\Phi=-x^3\n",
    "$$\n",
    "The boundary values are $\\Phi(x=1)=2, \\Phi(x=2)=6$. The knots of the subdomain are the following:\n",
    "$$\n",
    "[1.75, 2, 1.25, 1, 1.5]\n",
    "$$"
   ]
  },
  {
   "cell_type": "code",
   "execution_count": 130,
   "id": "4e331219",
   "metadata": {},
   "outputs": [],
   "source": [
    "import numpy as np\n",
    "import random\n",
    "import math\n",
    "import sys\n",
    "import matplotlib.pyplot as plt\n",
    "import seaborn as sns\n",
    "import scipy\n",
    "\n",
    "sns.set_theme()"
   ]
  },
  {
   "cell_type": "markdown",
   "id": "fc5603a3",
   "metadata": {},
   "source": [
    "## Express the given values and functions"
   ]
  },
  {
   "cell_type": "code",
   "execution_count": 131,
   "id": "c0937a7c",
   "metadata": {},
   "outputs": [],
   "source": [
    "def alpha(x):\n",
    "    \"given in the diff. eq.\"\n",
    "    return np.square(x)\n",
    "\n",
    "def beta(x):\n",
    "    \"given in the diff. eq.\"\n",
    "    return x\n",
    "\n",
    "def right_hand_side(x):\n",
    "    \"given in the diff. eq.\"\n",
    "    return - np.power(x, 3)\n",
    "\n",
    "# given from the boundary conditions:\n",
    "LOWER_BOUND = 1\n",
    "UPPER_BOUND = 2\n",
    "\n",
    "NUMBER_OF_DOMAINS = 5"
   ]
  },
  {
   "cell_type": "code",
   "execution_count": 132,
   "id": "d77c0d90",
   "metadata": {},
   "outputs": [
    {
     "name": "stdout",
     "output_type": "stream",
     "text": [
      "[1.75 2.   1.25 1.   1.5 ]\n"
     ]
    }
   ],
   "source": [
    "# NUMBER_OF_DOMAINS increments from LOWER_BOUND to UPPER_BOUND in random order\n",
    "domain_knots = np.array([1.75, 2, 1.25, 1, 1.5], dtype=float)\n",
    "print(domain_knots)"
   ]
  },
  {
   "cell_type": "code",
   "execution_count": 133,
   "id": "f35f297a",
   "metadata": {},
   "outputs": [
    {
     "name": "stdout",
     "output_type": "stream",
     "text": [
      "{'Lower Bound': {'x Value': 1, 'x Index': np.int64(3), 'Phi': 2.0}, 'Upper Bound': {'x Value': 2, 'x Index': np.int64(1), 'Phi': 6.0}}\n"
     ]
    }
   ],
   "source": [
    "boundary = {\n",
    "    \"Lower Bound\": {\"x Value\": 1, \"x Index\": np.where(domain_knots == 1)[0][0], \"Phi\": 2.0},\n",
    "    \"Upper Bound\": {\"x Value\": 2, \"x Index\": np.where(domain_knots == 2)[0][0], \"Phi\": 6.0}\n",
    "}\n",
    "print(boundary)"
   ]
  },
  {
   "cell_type": "markdown",
   "id": "c37a37f6",
   "metadata": {},
   "source": [
    "## Create the subdomain index list"
   ]
  },
  {
   "cell_type": "code",
   "execution_count": 134,
   "id": "5bac79bc",
   "metadata": {},
   "outputs": [
    {
     "data": {
      "text/plain": [
       "array([[3, 2],\n",
       "       [2, 4],\n",
       "       [4, 0],\n",
       "       [0, 1]])"
      ]
     },
     "execution_count": 134,
     "metadata": {},
     "output_type": "execute_result"
    }
   ],
   "source": [
    "def get_edge_indices(knots: np.array) -> np.array:\n",
    "    \"Returns index pairs representing element edges based on sorted knots.\"\n",
    "    sorted_knots = np.sort(knots)\n",
    "    knot_index_by_value = {value: index for index, value in enumerate(knots)}\n",
    "\n",
    "    indices = []\n",
    "    for index in range(len(sorted_knots) -1):\n",
    "        start_index = knot_index_by_value[sorted_knots[index]]\n",
    "        stop_index = knot_index_by_value[sorted_knots[index +1]]\n",
    "        indices.append([start_index, stop_index])\n",
    "\n",
    "    indices = np.array(indices, dtype=int)\n",
    "    return indices\n",
    "\n",
    "domain_indices = get_edge_indices(domain_knots)\n",
    "domain_indices"
   ]
  },
  {
   "cell_type": "markdown",
   "id": "2acc4852",
   "metadata": {},
   "source": [
    "## calculate matrix values\n",
    "Calculate matrix values according to the following equations:\n",
    "$$\n",
    "L_E = x_2 -x_1\n",
    "$$\n",
    "\n",
    "$$\n",
    "x_M = \\frac{x_2 + x_1}{2}\n",
    "$$\n",
    "\n",
    "$$\n",
    "K_{i,j} = \\frac{\\alpha(x_M)}{L_E} \\begin{pmatrix} 1 & -1 \\\\ -1 & 1 \\end{pmatrix} + \\frac{L_E \\cdot \\beta(x_M)}{6} \\begin{pmatrix} 2 & 1 \\\\ 1 & 2 \\end{pmatrix}\n",
    "$$\n",
    "\n",
    "$$\n",
    "D_j = \\frac{L_E \\cdot f(x_M)}{2} \\begin{pmatrix} 1& 1 \\end{pmatrix}\n",
    "$$"
   ]
  },
  {
   "cell_type": "code",
   "execution_count": 135,
   "id": "6f892da8",
   "metadata": {},
   "outputs": [],
   "source": [
    "def get_element_coefficients(midpoint, edge_length, alpha, beta):\n",
    "    matrix1 = np.array([1, -1, -1, 1]).reshape(2,2)\n",
    "    matrix2 = np.array([2, 1, 1, 2]).reshape(2,2)\n",
    "\n",
    "    return alpha(midpoint) / edge_length * matrix1 + edge_length * beta(midpoint) / 6 * matrix2\n",
    "\n",
    "def get_element_rhs(midpoint, edge_length, right_hand_side):\n",
    "    matrix = np.array([1,1])\n",
    "    return edge_length / 2 * right_hand_side(midpoint) * matrix\n",
    "\n",
    "def assemble_element(start, end):\n",
    "    midpoint = (start + end) / 2\n",
    "    element_length = abs(end - start)\n",
    "    element_coefficients = get_element_coefficients(midpoint, element_length, alpha, beta)\n",
    "    element_rhs = get_element_rhs(midpoint, element_length, right_hand_side)\n",
    "    return element_coefficients, element_rhs"
   ]
  },
  {
   "cell_type": "code",
   "execution_count": 136,
   "id": "3505f3f9",
   "metadata": {},
   "outputs": [
    {
     "data": {
      "text/plain": [
       "[{'Start Index': np.int64(3),\n",
       "  'Stop Index': np.int64(2),\n",
       "  'Coefficients': array([[ 5.15625 , -5.015625],\n",
       "         [-5.015625,  5.15625 ]]),\n",
       "  'Right Hand Side': array([-0.17797852, -0.17797852])},\n",
       " {'Start Index': np.int64(2),\n",
       "  'Stop Index': np.int64(4),\n",
       "  'Coefficients': array([[ 7.67708333, -7.50520833],\n",
       "         [-7.50520833,  7.67708333]]),\n",
       "  'Right Hand Side': array([-0.32495117, -0.32495117])},\n",
       " {'Start Index': np.int64(4),\n",
       "  'Stop Index': np.int64(0),\n",
       "  'Coefficients': array([[ 10.69791667, -10.49479167],\n",
       "         [-10.49479167,  10.69791667]]),\n",
       "  'Right Hand Side': array([-0.53637695, -0.53637695])},\n",
       " {'Start Index': np.int64(0),\n",
       "  'Stop Index': np.int64(1),\n",
       "  'Coefficients': array([[ 14.21875 , -13.984375],\n",
       "         [-13.984375,  14.21875 ]]),\n",
       "  'Right Hand Side': array([-0.82397461, -0.82397461])}]"
      ]
     },
     "execution_count": 136,
     "metadata": {},
     "output_type": "execute_result"
    }
   ],
   "source": [
    "elements = []\n",
    "for start_index, stop_index in domain_indices:\n",
    "    start = domain_knots[start_index]\n",
    "    end = domain_knots[stop_index]\n",
    "    element_coefficients, element_rhs = assemble_element(start, end)\n",
    "    elements.append({\n",
    "        'Start Index': start_index,\n",
    "        'Stop Index': stop_index,\n",
    "        # 'Start Value': start,\n",
    "        # 'Stop Value': end,\n",
    "        'Coefficients': element_coefficients,\n",
    "        'Right Hand Side': element_rhs\n",
    "    })\n",
    "\n",
    "elements"
   ]
  },
  {
   "cell_type": "markdown",
   "id": "0f86e8ab",
   "metadata": {},
   "source": [
    "## Add Element Values to the global linear equation system\n",
    "\n",
    "## THen Use the bondary conditions on the matrices"
   ]
  },
  {
   "cell_type": "code",
   "execution_count": 137,
   "id": "2d9e93cc",
   "metadata": {},
   "outputs": [
    {
     "name": "stdout",
     "output_type": "stream",
     "text": [
      "Full linear equation system:\n",
      "[[ 24.91666667 -13.984375     0.           0.         -10.49479167]\n",
      " [-13.984375    14.21875      0.           0.           0.        ]\n",
      " [  0.           0.          12.83333333  -5.015625    -7.50520833]\n",
      " [  0.           0.          -5.015625     5.15625      0.        ]\n",
      " [-10.49479167   0.          -7.50520833   0.          18.375     ]]\n",
      "[[-1.36035156]\n",
      " [-0.82397461]\n",
      " [-0.50292969]\n",
      " [-0.17797852]\n",
      " [-0.86132812]]\n",
      "Reduced Matrices:\n",
      "[[ 24.91666667   0.         -10.49479167]\n",
      " [  0.          12.83333333  -7.50520833]\n",
      " [-10.49479167  -7.50520833  18.375     ]]\n",
      "[[82.54589844]\n",
      " [ 9.52832031]\n",
      " [-0.86132812]]\n"
     ]
    }
   ],
   "source": [
    "coefficients_matrix = np.zeros(shape=(5,5))\n",
    "\n",
    "right_hand_side_matrix = np.zeros(shape=(5,1))\n",
    "for element in elements:\n",
    "    coefficients_matrix[element[\"Start Index\"]][element[\"Start Index\"]] += element[\"Coefficients\"][0][0]\n",
    "    coefficients_matrix[element[\"Start Index\"]][element[\"Stop Index\"]] += element[\"Coefficients\"][0][1]\n",
    "    coefficients_matrix[element[\"Stop Index\"]][element[\"Start Index\"]] += element[\"Coefficients\"][1][0]\n",
    "    coefficients_matrix[element[\"Stop Index\"]][element[\"Stop Index\"]] += element[\"Coefficients\"][1][1]\n",
    "\n",
    "    right_hand_side_matrix[element[\"Start Index\"]] += element[\"Right Hand Side\"][0]\n",
    "    right_hand_side_matrix[element[\"Stop Index\"]] += element[\"Right Hand Side\"][1]\n",
    "\n",
    "print(\"Full linear equation system:\")\n",
    "print(coefficients_matrix)\n",
    "print(right_hand_side_matrix)\n",
    "\n",
    "# remove row from coefficients_matrix: \n",
    "coefficients_matrix = np.delete(coefficients_matrix, boundary[\"Lower Bound\"][\"x Index\"], axis=0)\n",
    "coefficients_matrix = np.delete(coefficients_matrix, boundary[\"Upper Bound\"][\"x Index\"], axis=0)\n",
    "\n",
    "# remove row from right_hand_side_matrix\n",
    "right_hand_side_matrix = np.delete(right_hand_side_matrix, boundary[\"Lower Bound\"][\"x Index\"], axis=0)\n",
    "right_hand_side_matrix = np.delete(right_hand_side_matrix, boundary[\"Upper Bound\"][\"x Index\"], axis=0)\n",
    "coefficients_matrix[: ,boundary[\"Upper Bound\"][\"x Index\"]]\n",
    "\n",
    "right_hand_side_matrix = right_hand_side_matrix - boundary[\"Upper Bound\"][\"Phi\"] * coefficients_matrix[: ,boundary[\"Upper Bound\"][\"x Index\"]].reshape(3,1) - boundary[\"Lower Bound\"][\"Phi\"] * coefficients_matrix[: ,boundary[\"Lower Bound\"][\"x Index\"]].reshape(3,1)\n",
    "\n",
    "# remove column from coefficients_matrix: \n",
    "coefficients_matrix = np.delete(coefficients_matrix, boundary[\"Lower Bound\"][\"x Index\"], axis=1)\n",
    "coefficients_matrix = np.delete(coefficients_matrix, boundary[\"Upper Bound\"][\"x Index\"], axis=1)\n",
    "\n",
    "print(\"Reduced Matrices:\")\n",
    "print(coefficients_matrix)\n",
    "print(right_hand_side_matrix)"
   ]
  },
  {
   "cell_type": "markdown",
   "id": "1ab1bcc2",
   "metadata": {},
   "source": [
    "## Solve the completed linear equations system"
   ]
  },
  {
   "cell_type": "code",
   "execution_count": 138,
   "id": "fc69b159",
   "metadata": {},
   "outputs": [
    {
     "name": "stdout",
     "output_type": "stream",
     "text": [
      "[5.05126211 6.         3.1561756  2.         4.12725827]\n"
     ]
    }
   ],
   "source": [
    "reduced_solutions = np.linalg.solve(coefficients_matrix, right_hand_side_matrix)\n",
    "\n",
    "# manually update the index values. TO DO: automate this part!\n",
    "reduced_solutions= np.insert(reduced_solutions, boundary[\"Lower Bound\"][\"x Index\"] -1, boundary[\"Lower Bound\"][\"Phi\"])  \n",
    "\n",
    "reduced_solutions= np.insert(reduced_solutions, boundary[\"Upper Bound\"][\"x Index\"], boundary[\"Upper Bound\"][\"Phi\"])   \n",
    "\n",
    "print(reduced_solutions)"
   ]
  },
  {
   "cell_type": "code",
   "execution_count": null,
   "id": "c63cb17d",
   "metadata": {},
   "outputs": [
    {
     "data": {
      "text/plain": [
       "[<matplotlib.lines.Line2D at 0x27875740690>]"
      ]
     },
     "execution_count": 141,
     "metadata": {},
     "output_type": "execute_result"
    },
    {
     "data": {
      "image/png": "[encoded data removed]",
      "text/plain": [
       "<Figure size 640x480 with 1 Axes>"
      ]
     },
     "metadata": {},
     "output_type": "display_data"
    }
   ],
   "source": [
    "# Question: how do i sort the solutions vector?\n",
    "x = np.linspace(LOWER_BOUND, UPPER_BOUND, NUMBER_OF_DOMAINS)\n",
    "plt.scatter(x, np.sort(reduced_solutions))\n",
    "plt.plot(x, np.sort(reduced_solutions))\n",
    "plt.xlabel(\"x\")\n",
    "plt.ylabel(r\"\\Phi (x)\")\n",
    "plt.title(f\"DGL Solution with {NUMBER_OF_DOMAINS} subdomains\")\n",
    "\n",
    "plt.tight_layout()\n",
    "plt.show()"
   ]
  }
 ],
 "metadata": {
  "kernelspec": {
   "display_name": ".venv",
   "language": "python",
   "name": "python3"
  },
  "language_info": {
   "codemirror_mode": {
    "name": "ipython",
    "version": 3
   },
   "file_extension": ".py",
   "mimetype": "text/x-python",
   "name": "python",
   "nbconvert_exporter": "python",
   "pygments_lexer": "ipython3",
   "version": "3.13.3"
  }
 },
 "nbformat": 4,
 "nbformat_minor": 5
}
