{
 "cells": [
  {
   "cell_type": "markdown",
   "id": "30717753",
   "metadata": {},
   "source": [
    "# Matrix Generator for FEM\n",
    "Given a certain differntial equation with boundary value condition, solve the the system using the alrogithm ??\n",
    "\n",
    "file:///G:/My%20Drive/HKA%20EITB/Semester%206/Methoden%20der%20Feldberechnung/GalerkinVerfahren.pdf, page 13\n",
    "\n",
    "## Task\n",
    "Differential Equation:\n",
    "$$\n",
    "-\\frac{d}{d x}\\left(x^2 \\frac{d \\Phi}{d x}\\right)+x \\Phi=-x^3\n",
    "$$\n",
    "\n",
    "boundary value condition:\n",
    "$$\n",
    "\\Phi(x=1)=2\\\\ \\Phi(x=2)=6\n",
    "$$\n",
    "\n",
    "domain knots:\n",
    "$$\n",
    "[1.75, 2, 1.25, 1, 1.5]\n",
    "$$"
   ]
  },
  {
   "cell_type": "code",
   "execution_count": 138,
   "id": "4e331219",
   "metadata": {},
   "outputs": [],
   "source": [
    "import numpy as np\n",
    "import random\n",
    "import math\n",
    "import sys"
   ]
  },
  {
   "cell_type": "markdown",
   "id": "fc5603a3",
   "metadata": {},
   "source": [
    "## Express the given values and functions"
   ]
  },
  {
   "cell_type": "code",
   "execution_count": 139,
   "id": "c0937a7c",
   "metadata": {},
   "outputs": [],
   "source": [
    "def alpha(x):\n",
    "    \"given in the diff. eq.\"\n",
    "    return np.square(x)\n",
    "\n",
    "def beta(x):\n",
    "    \"given in the diff. eq.\"\n",
    "    return x\n",
    "\n",
    "def right_hand_side(x):\n",
    "    return - np.power(x, 3)\n",
    "\n",
    "# given from the boundary conditions:\n",
    "# LOWER_BOUND = 1\n",
    "# UPPER_BOUND = 2\n",
    "\n",
    "# NUMBER_OF_DOMAINS = 5"
   ]
  },
  {
   "cell_type": "code",
   "execution_count": 140,
   "id": "d77c0d90",
   "metadata": {},
   "outputs": [
    {
     "data": {
      "text/plain": [
       "array([1.75, 2.  , 1.25, 1.  , 1.5 ])"
      ]
     },
     "execution_count": 140,
     "metadata": {},
     "output_type": "execute_result"
    }
   ],
   "source": [
    "domain_knots = np.array([1.75, 2, 1.25, 1, 1.5], dtype=float)\n",
    "domain_knots"
   ]
  },
  {
   "cell_type": "markdown",
   "id": "c37a37f6",
   "metadata": {},
   "source": [
    "## Create the subdomain index list"
   ]
  },
  {
   "cell_type": "code",
   "execution_count": 154,
   "id": "7c46709c",
   "metadata": {},
   "outputs": [
    {
     "data": {
      "text/plain": [
       "array([[3, 2],\n",
       "       [2, 4],\n",
       "       [4, 0],\n",
       "       [0, 1]])"
      ]
     },
     "execution_count": 154,
     "metadata": {},
     "output_type": "execute_result"
    }
   ],
   "source": [
    "def get_edge_indices(knots: np.array) -> np.array:\n",
    "    \"Given a 1D Array of the domain points, calculate the indices of each segment between two points. the input array can be in random order. Returns an array, each element is a segment and contains the start and end index.\"\n",
    "    sorted = np.sort(knots)\n",
    "\n",
    "    # assume 1d, so each segment can be desribed by 2 points. \n",
    "    indices = np.zeros(shape=(sorted[:-1].size, 2), dtype=int)\n",
    "\n",
    "    # ignore the last value in the sorted data, number of segments = number of points -1.\n",
    "    for index, sorted_knot in enumerate(sorted[:-1]):\n",
    "\n",
    "        start_index = np.where(knots == sorted_knot)[0][0]\n",
    "        end_index = np.where(knots == sorted[index +1])[0][0]\n",
    "\n",
    "        indices[index] = int(start_index), int(end_index)\n",
    "    return indices\n",
    "\n",
    "domain_edge_indices = get_edge_indices(domain_knots)\n",
    "domain_edge_indices"
   ]
  },
  {
   "cell_type": "markdown",
   "id": "2acc4852",
   "metadata": {},
   "source": [
    "## calculate matrix values\n",
    "Calculate matrix values according to the following equations:\n",
    "$$\n",
    "L_E = x_2 -x_1\n",
    "$$\n",
    "\n",
    "$$\n",
    "x_M = \\frac{x_2 + x_1}{2}\n",
    "$$\n",
    "\n",
    "$$\n",
    "K_{i,j} = \\frac{\\alpha{x_M}}{L_E} \\begin{pmatrix} 1 & -1 \\\\ -1 & 1 \\end{pmatrix} + \\frac{L_E \\cdot \\beta{x_M}}{6} \\begin{pmatrix} 2 & 1 \\\\ 1 & 2 \\end{pmatrix}\n",
    "$$\n",
    "\n",
    "$$\n",
    "D_j = \\frac{L_E \\cdot f{x_M}}{2} \\begin{pmatrix} 1& 1 \\end{pmatrix}\n",
    "$$"
   ]
  },
  {
   "cell_type": "code",
   "execution_count": 152,
   "id": "6f892da8",
   "metadata": {},
   "outputs": [],
   "source": [
    "def coefficients(midpoint, edge_length, alpha, beta):\n",
    "    matrix1 = np.array([1, -1, -1, 1]).reshape(2,2)\n",
    "    matrix2 = np.array([2, 1, 1, 2]).reshape(2,2)\n",
    "\n",
    "    return alpha(midpoint) / edge_length * matrix1 + edge_length * beta(midpoint) / 6 * matrix2\n",
    "\n",
    "def d(midpoint, edge_length, right_hand_side):\n",
    "    matrix = np.array([1,1])\n",
    "    return edge_length / 2 * right_hand_side(midpoint) * matrix"
   ]
  },
  {
   "cell_type": "code",
   "execution_count": null,
   "id": "97bf9cb3",
   "metadata": {},
   "outputs": [],
   "source": [
    "for edge_index in domain_edge_indices:\n",
    "    start_index, end_index = edge_index\n",
    "    print(start_index, end_index)\n",
    "\n",
    "    start_point = domain_knots[start_index]\n",
    "    end_point = domain_knots[end_index]\n",
    "    print(start_point, end_point)\n",
    "\n",
    "    edge_length = end_point - start_point\n",
    "    print(edge_length)\n",
    "\n",
    "    edge_midpoint = (start_point + end_point) / 2\n",
    "    print(edge_midpoint)\n",
    "\n",
    "    alpha_value = alpha(edge_midpoint)\n",
    "    beta_value = beta(edge_midpoint)\n",
    "    right_hand_side_value = right_hand_side(edge_midpoint)\n",
    "    print(alpha_value, beta_value, right_hand_side_value)\n",
    "\n",
    "    k_11 = coefficients(edge_midpoint, edge_length, alpha, beta)\n",
    "    print(k_11)\n",
    "\n",
    "    d_1 = d(edge_midpoint, edge_length, right_hand_side)\n",
    "    print(d_1)\n",
    "\n",
    "    print(f'''\n",
    "edge index:\\t{edge_index}\n",
    "edges:\\t{start_point, end_point}\n",
    "edge length:\\t{edge_length}\n",
    "edge midpoint:\\t{edge_midpoint}\n",
    "alpha of midpoint:\\t{alpha_value}\n",
    "beta of midpoint:\\t{beta_value}\n",
    "f of midpoint:\\t{right_hand_side_value}\n",
    "k values:\\t{k_11}\n",
    "d values:\\t{d_1}\n",
    "''')"
   ]
  }
 ],
 "metadata": {
  "kernelspec": {
   "display_name": ".venv",
   "language": "python",
   "name": "python3"
  },
  "language_info": {
   "codemirror_mode": {
    "name": "ipython",
    "version": 3
   },
   "file_extension": ".py",
   "mimetype": "text/x-python",
   "name": "python",
   "nbconvert_exporter": "python",
   "pygments_lexer": "ipython3",
   "version": "3.13.3"
  }
 },
 "nbformat": 4,
 "nbformat_minor": 5
}
