{
 "cells": [
  {
   "cell_type": "markdown",
   "id": "a37fcbd6",
   "metadata": {},
   "source": [
    "# Solve Systems of Linear Equations\n",
    "The Matrix is quadratic of form NxN.The formular is:\n",
    "koefficents * x = result "
   ]
  },
  {
   "cell_type": "code",
   "execution_count": 109,
   "id": "eaede495",
   "metadata": {},
   "outputs": [],
   "source": [
    "import numpy as np\n",
    "import scipy\n",
    "import timeit\n",
    "import pandas as pd\n",
    "import seaborn as sns\n",
    "import matplotlib.pyplot as plt"
   ]
  },
  {
   "cell_type": "code",
   "execution_count": null,
   "id": "a042b56c",
   "metadata": {},
   "outputs": [
    {
     "name": "stdout",
     "output_type": "stream",
     "text": [
      "Scipy computation time for 10x10 matrix:\t0.000093\n",
      "Numpy computation time for 10x10 matrix:\t0.000024\n"
     ]
    },
    {
     "data": {
      "text/plain": [
       "2.4100008886307478e-05"
      ]
     },
     "execution_count": 110,
     "metadata": {},
     "output_type": "execute_result"
    }
   ],
   "source": [
    "def get_scipy_computation_time(matrix_size, repetitions=5):\n",
    "    setup = f'''\n",
    "import numpy as np\n",
    "import scipy\n",
    "coefficients = np.random.rand({matrix_size}, {matrix_size})\n",
    "dependents = np.random.rand({matrix_size}, 1)\n",
    "'''\n",
    "    test_code = \"scipy.linalg.solve(coefficients, dependents)\"\n",
    "\n",
    "    min_time = min(timeit.repeat(stmt=test_code, setup=setup, repeat=repetitions, number=1, globals=globals()))\n",
    "    print(f\"Scipy computation time for {matrix_size}x{matrix_size} matrix:\\t{min_time:6f}\")\n",
    "    return min_time\n",
    "\n",
    "def get_scipy_sparse_computation_time(matrix_size, repetitions=5):\n",
    "    setup = f'''\n",
    "import numpy as np\n",
    "coefficients = np.random.rand({matrix_size}, {matrix_size})\n",
    "dependents = np.random.rand({matrix_size}, 1)\n",
    "'''\n",
    "    test_code = \"np.linalg.solve(coefficients, dependents)\"\n",
    "\n",
    "    min_time = min(timeit.repeat(stmt=test_code, setup=setup, repeat=repetitions, number=1, globals=globals()))\n",
    "    print(f\"Numpy computation time for {matrix_size}x{matrix_size} matrix:\\t{min_time:6f} seconds ({repetitions} repetitions)\")\n",
    "    return min_time\n",
    "\n",
    "def get_scipy_sparse_computation_time(matrix_size, repetitions=5):\n",
    "    setup = f'''\n",
    "import numpy as np\n",
    "import scipy\n",
    "coefficients = np.random.rand({matrix_size}, {matrix_size}) # make the array sparse\n",
    "dependents = np.random.rand({matrix_size}, 1)\n",
    "'''\n",
    "    test_code = \"scipy.linalg.solve(coefficients, dependents)\"\n",
    "\n",
    "    min_time = min(timeit.repeat(stmt=test_code, setup=setup, repeat=repetitions, number=1, globals=globals()))\n",
    "    print(f\"Scipy computation time for sparse {matrix_size}x{matrix_size} matrix:\\t{min_time:6f} seconds ({repetitions} repetitions)\")\n",
    "    return min_time\n",
    "\n",
    "def get_numpy_diagonal_computation_time(matrix_size, repetitions=5):\n",
    "    setup = f'''\n",
    "import numpy as np\n",
    "coefficients = np.random.rand({matrix_size}, {matrix_size}) # values only on the diagonale\n",
    "dependents = np.random.rand({matrix_size}, 1)\n",
    "'''\n",
    "    test_code = \"np.linalg.solve(coefficients, dependents)\"\n",
    "\n",
    "    min_time = min(timeit.repeat(stmt=test_code, setup=setup, repeat=repetitions, number=1, globals=globals()))\n",
    "    print(f\"Numpy computation time for diagonal {matrix_size}x{matrix_size} matrix:\\t{min_time:6f} seconds ({repetitions} repetitions)\")\n",
    "    return min_time\n",
    "\n",
    "def get_scipy_diagonal_computation_time(matrix_size, repetitions=5):\n",
    "    setup = f'''\n",
    "import numpy as np\n",
    "import scipy\n",
    "coefficients = np.random.rand({matrix_size}, {matrix_size}) # values only on the diagonale\n",
    "dependents = np.random.rand({matrix_size}, 1)\n",
    "'''\n",
    "    test_code = \"np.linalg.solve(coefficients, dependents)\"\n",
    "\n",
    "    min_time = min(timeit.repeat(stmt=test_code, setup=setup, repeat=repetitions, number=1, globals=globals()))\n",
    "    print(f\"Scipy computation time for diagonal {matrix_size}x{matrix_size} matrix:\\t{min_time:6f} seconds ({repetitions} repetitions)\")\n",
    "    return min_time\n",
    "\n",
    "_ = get_scipy_computation_time(matrix_size=10)\n",
    "_ = get_scipy_sparse_computation_time(matrix_size=10)"
   ]
  },
  {
   "cell_type": "code",
   "execution_count": 122,
   "id": "0ad2086d",
   "metadata": {},
   "outputs": [
    {
     "name": "stdout",
     "output_type": "stream",
     "text": [
      "Scipy computation time for 500x500 matrix:\t0.007544\n",
      "Numpy computation time for 500x500 matrix:\t0.004326\n",
      "Scipy computation time for 1500x1500 matrix:\t0.088694\n",
      "Numpy computation time for 1500x1500 matrix:\t0.079503\n",
      "Scipy computation time for 2500x2500 matrix:\t0.321522\n",
      "Numpy computation time for 2500x2500 matrix:\t0.342164\n",
      "Scipy computation time for 3500x3500 matrix:\t0.777719\n",
      "Numpy computation time for 3500x3500 matrix:\t0.927565\n",
      "Scipy computation time for 4500x4500 matrix:\t1.587934\n",
      "Numpy computation time for 4500x4500 matrix:\t1.787482\n",
      "Scipy computation time for 5500x5500 matrix:\t2.578317\n",
      "Numpy computation time for 5500x5500 matrix:\t3.282067\n"
     ]
    },
    {
     "data": {
      "application/vnd.microsoft.datawrangler.viewer.v0+json": {
       "columns": [
        {
         "name": "index",
         "rawType": "int64",
         "type": "integer"
        },
        {
         "name": "Matrix Size",
         "rawType": "int64",
         "type": "integer"
        },
        {
         "name": "Library",
         "rawType": "object",
         "type": "string"
        },
        {
         "name": "Computation Time (seconds)",
         "rawType": "float64",
         "type": "float"
        }
       ],
       "conversionMethod": "pd.DataFrame",
       "ref": "b512c57f-e8db-4eee-8d5a-4d3dae6b43c3",
       "rows": [
        [
         "0",
         "500",
         "Scipy",
         "0.007543700048699975"
        ],
        [
         "1",
         "500",
         "Numpy",
         "0.0043264000560157"
        ],
        [
         "2",
         "1500",
         "Scipy",
         "0.08869419997790828"
        ],
        [
         "3",
         "1500",
         "Numpy",
         "0.07950250001158565"
        ],
        [
         "4",
         "2500",
         "Scipy",
         "0.3215218000113964"
        ],
        [
         "5",
         "2500",
         "Numpy",
         "0.34216449997620657"
        ],
        [
         "6",
         "3500",
         "Scipy",
         "0.7777191000059247"
        ],
        [
         "7",
         "3500",
         "Numpy",
         "0.9275649000192061"
        ],
        [
         "8",
         "4500",
         "Scipy",
         "1.5879344000131823"
        ],
        [
         "9",
         "4500",
         "Numpy",
         "1.7874824000173248"
        ],
        [
         "10",
         "5500",
         "Scipy",
         "2.5783166000037454"
        ],
        [
         "11",
         "5500",
         "Numpy",
         "3.2820672999951057"
        ]
       ],
       "shape": {
        "columns": 3,
        "rows": 12
       }
      },
      "text/html": [
       "<div>\n",
       "<style scoped>\n",
       "    .dataframe tbody tr th:only-of-type {\n",
       "        vertical-align: middle;\n",
       "    }\n",
       "\n",
       "    .dataframe tbody tr th {\n",
       "        vertical-align: top;\n",
       "    }\n",
       "\n",
       "    .dataframe thead th {\n",
       "        text-align: right;\n",
       "    }\n",
       "</style>\n",
       "<table border=\"1\" class=\"dataframe\">\n",
       "  <thead>\n",
       "    <tr style=\"text-align: right;\">\n",
       "      <th></th>\n",
       "      <th>Matrix Size</th>\n",
       "      <th>Library</th>\n",
       "      <th>Computation Time (seconds)</th>\n",
       "    </tr>\n",
       "  </thead>\n",
       "  <tbody>\n",
       "    <tr>\n",
       "      <th>0</th>\n",
       "      <td>500</td>\n",
       "      <td>Scipy</td>\n",
       "      <td>0.007544</td>\n",
       "    </tr>\n",
       "    <tr>\n",
       "      <th>1</th>\n",
       "      <td>500</td>\n",
       "      <td>Numpy</td>\n",
       "      <td>0.004326</td>\n",
       "    </tr>\n",
       "    <tr>\n",
       "      <th>2</th>\n",
       "      <td>1500</td>\n",
       "      <td>Scipy</td>\n",
       "      <td>0.088694</td>\n",
       "    </tr>\n",
       "    <tr>\n",
       "      <th>3</th>\n",
       "      <td>1500</td>\n",
       "      <td>Numpy</td>\n",
       "      <td>0.079503</td>\n",
       "    </tr>\n",
       "    <tr>\n",
       "      <th>4</th>\n",
       "      <td>2500</td>\n",
       "      <td>Scipy</td>\n",
       "      <td>0.321522</td>\n",
       "    </tr>\n",
       "    <tr>\n",
       "      <th>5</th>\n",
       "      <td>2500</td>\n",
       "      <td>Numpy</td>\n",
       "      <td>0.342164</td>\n",
       "    </tr>\n",
       "    <tr>\n",
       "      <th>6</th>\n",
       "      <td>3500</td>\n",
       "      <td>Scipy</td>\n",
       "      <td>0.777719</td>\n",
       "    </tr>\n",
       "    <tr>\n",
       "      <th>7</th>\n",
       "      <td>3500</td>\n",
       "      <td>Numpy</td>\n",
       "      <td>0.927565</td>\n",
       "    </tr>\n",
       "    <tr>\n",
       "      <th>8</th>\n",
       "      <td>4500</td>\n",
       "      <td>Scipy</td>\n",
       "      <td>1.587934</td>\n",
       "    </tr>\n",
       "    <tr>\n",
       "      <th>9</th>\n",
       "      <td>4500</td>\n",
       "      <td>Numpy</td>\n",
       "      <td>1.787482</td>\n",
       "    </tr>\n",
       "    <tr>\n",
       "      <th>10</th>\n",
       "      <td>5500</td>\n",
       "      <td>Scipy</td>\n",
       "      <td>2.578317</td>\n",
       "    </tr>\n",
       "    <tr>\n",
       "      <th>11</th>\n",
       "      <td>5500</td>\n",
       "      <td>Numpy</td>\n",
       "      <td>3.282067</td>\n",
       "    </tr>\n",
       "  </tbody>\n",
       "</table>\n",
       "</div>"
      ],
      "text/plain": [
       "    Matrix Size Library  Computation Time (seconds)\n",
       "0           500   Scipy                    0.007544\n",
       "1           500   Numpy                    0.004326\n",
       "2          1500   Scipy                    0.088694\n",
       "3          1500   Numpy                    0.079503\n",
       "4          2500   Scipy                    0.321522\n",
       "5          2500   Numpy                    0.342164\n",
       "6          3500   Scipy                    0.777719\n",
       "7          3500   Numpy                    0.927565\n",
       "8          4500   Scipy                    1.587934\n",
       "9          4500   Numpy                    1.787482\n",
       "10         5500   Scipy                    2.578317\n",
       "11         5500   Numpy                    3.282067"
      ]
     },
     "execution_count": 122,
     "metadata": {},
     "output_type": "execute_result"
    }
   ],
   "source": [
    "MIN_SIZE = 500\n",
    "MAX_SIZE = 6500\n",
    "STEP_SIZE = 1000\n",
    "data = []\n",
    "for size in range(MIN_SIZE, MAX_SIZE, STEP_SIZE):\n",
    "    data.append((size, \"Scipy\", get_scipy_computation_time(matrix_size=size)))\n",
    "    data.append((size, \"Numpy\", get_scipy_sparse_computation_time(matrix_size=size)))\n",
    "\n",
    "# Convert list to a DataFrame with appropriate column names\n",
    "results = pd.DataFrame(data, columns=[\"Matrix Size\", \"Library\", \"Computation Time (seconds)\"])\n",
    "results"
   ]
  },
  {
   "cell_type": "code",
   "execution_count": null,
   "id": "d5369ac8",
   "metadata": {},
   "outputs": [
    {
     "data": {
      "image/png": "[encoded data removed]",
      "text/plain": [
       "<Figure size 599.75x500 with 1 Axes>"
      ]
     },
     "metadata": {},
     "output_type": "display_data"
    }
   ],
   "source": [
    "g = sns.relplot(data=results, kind=\"scatter\", x=\"Matrix Size\", y=\"Computation Time (seconds)\", hue=\"Library\")\n",
    "\n",
    "plt.title(\"Comparison of Scipy vs Numpy Computation Time\")\n",
    "plt.show()"
   ]
  }
 ],
 "metadata": {
  "kernelspec": {
   "display_name": ".venv",
   "language": "python",
   "name": "python3"
  },
  "language_info": {
   "codemirror_mode": {
    "name": "ipython",
    "version": 3
   },
   "file_extension": ".py",
   "mimetype": "text/x-python",
   "name": "python",
   "nbconvert_exporter": "python",
   "pygments_lexer": "ipython3",
   "version": "3.13.3"
  }
 },
 "nbformat": 4,
 "nbformat_minor": 5
}
