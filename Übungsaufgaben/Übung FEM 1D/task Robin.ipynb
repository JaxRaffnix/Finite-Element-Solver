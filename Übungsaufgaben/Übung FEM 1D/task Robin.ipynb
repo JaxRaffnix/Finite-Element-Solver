{
 "cells": [
  {
   "cell_type": "code",
   "execution_count": null,
   "id": "f7907a14",
   "metadata": {},
   "outputs": [],
   "source": [
    "import numpy as np\n",
    "import pandas as pd\n",
    "import matplotlib.pyplot as plt\n",
    "import seaborn as sns\n",
    "\n",
    "sns.set_theme()\n",
    "\n",
    "import functions as myfunc"
   ]
  },
  {
   "cell_type": "code",
   "execution_count": null,
   "id": "90cb076f",
   "metadata": {},
   "outputs": [],
   "source": [
    "nodes = np.loadtxt(\"Lösung/Netz1D_p.dat\")\n",
    "number_of_nodes = len(nodes)\n",
    "element_indices = np.loadtxt(\"Lösung/Elemente1D_t.dat\")\n",
    "\n",
    "coefficients_matrix = np.loadtxt(\"Lösung/Netz1D_Matrix_K.dat\")\n",
    "rhs_matrix = np.loadtxt(\"Lösung/Netz1D_Vector_D.dat\").reshape((number_of_nodes, 1))\n",
    "\n",
    "def alpha(x):\n",
    "    \"\"\"\n",
    "    Piecewise function for alpha(x):\n",
    "    - 3 in [1.5, 2.7]\n",
    "    - x^2 elsewhere\n",
    "    \"\"\"\n",
    "    x = np.asarray(x)\n",
    "    return np.where((1.5 <= x) & (x <= 2.7), 3.0, np.square(x))\n",
    "\n",
    "def beta(x):\n",
    "    \"\"\"\n",
    "    Piecewise function for beta(x):\n",
    "    - x / (x+1) in [1, 2]\n",
    "    - x^2 elsewhere\n",
    "    \"\"\"\n",
    "    x = np.asarray(x)\n",
    "    return np.where((1 <= x) & (x <= 2), x / (x + 1), np.square(x))\n",
    "\n",
    "def rhs(x):\n",
    "    \"\"\"\n",
    "    Right-hand side f(x):\n",
    "    - x in [2, 4]\n",
    "    - x + 1 elsewhere\n",
    "    \"\"\"\n",
    "    x = np.asarray(x)\n",
    "    return np.where((2 <= x) & (x <= 4), x, x + 1)\n",
    "\n",
    "def gamma(x):\n",
    "    \"\"\"\n",
    "    Robin issue function gamma(x)\"\"\"\n",
    "    return x\n",
    "\n",
    "def rho(x):\n",
    "    \"\"\"\n",
    "    Robin issue function rhs rho(x)\n",
    "    \"\"\"\n",
    "    x = np.asarray(x)\n",
    "    return np.power(x, 3)"
   ]
  },
  {
   "cell_type": "code",
   "execution_count": null,
   "id": "248c788d",
   "metadata": {},
   "outputs": [],
   "source": [
    "DOMAIN_BOUNDARY = {\n",
    "    \"Lower Bound\": 1,\n",
    "    \"Upper Bound\": 4\n",
    "}\n",
    "BOUNDARY_CONDITION = {\n",
    "    \"Lower Bound\": {\n",
    "        \"x\": DOMAIN_BOUNDARY[\"Lower Bound\"],\n",
    "        \"Gamma\": gamma(DOMAIN_BOUNDARY[\"Lower Bound\"]),\n",
    "        \"Rho\": rho(DOMAIN_BOUNDARY[\"Lower Bound\"])\n",
    "        # \"Phi\": np.exp(DOMAIN_BOUNDARY[\"Lower Bound\"])\n",
    "    },\n",
    "    \"Upper Bound\": {\n",
    "        \"x\": DOMAIN_BOUNDARY[\"Upper Bound\"],\n",
    "        \"Gamma\": gamma(DOMAIN_BOUNDARY[\"Upper Bound\"]),\n",
    "        \"Rho\": rho(DOMAIN_BOUNDARY[\"Upper Bound\"])\n",
    "        # \"Phi\": np.exp(DOMAIN_BOUNDARY[\"Upper Bound\"])\n",
    "    }\n",
    "}\n",
    "\n",
    "BOUNDARY_CONDITION[\"Lower Bound\"][\"x Index\"] = np.where(np.isclose(nodes, BOUNDARY_CONDITION[\"Lower Bound\"][\"x\"]))[0][0]\n",
    "BOUNDARY_CONDITION[\"Upper Bound\"][\"x Index\"] =np.where(np.isclose(nodes, BOUNDARY_CONDITION[\"Upper Bound\"][\"x\"]))[0][0]"
   ]
  }
 ],
 "metadata": {
  "kernelspec": {
   "display_name": ".venv",
   "language": "python",
   "name": "python3"
  },
  "language_info": {
   "name": "python",
   "version": "3.13.3"
  }
 },
 "nbformat": 4,
 "nbformat_minor": 5
}
