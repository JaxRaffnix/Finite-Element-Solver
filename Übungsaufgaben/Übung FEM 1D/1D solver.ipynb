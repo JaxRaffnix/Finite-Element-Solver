{
 "cells": [
  {
   "cell_type": "markdown",
   "id": "2c05c19d",
   "metadata": {},
   "source": [
    "# 1D Finite Element Solver\n",
    "We aim to solve a differential equation for a 1 dimensional case with the form\n",
    "$$\n",
    "- \\frac{\\partial}{\\partial x} \\alpha(x) \\cdot \\frac{\\partial \\Phi (x)}{\\partial x} + \\beta(x) \\cdot \\Phi (x)=f (x)\n",
    "$$\n",
    "with the galerkin method. Details can be found in the [lecture notes](\"G:\\My Drive\\HKA EITB\\Semester 6\\Methoden der Feldberechnung\\GalerkinVerfahren.pdf\"), page 13.\n",
    "\n",
    "To do so, we split the domain of the function given as boundary values in smaller parts and solve a linear equations system comprising all elements.\n",
    "\n",
    "## Initialise the Exercise Information"
   ]
  },
  {
   "cell_type": "code",
   "execution_count": 1,
   "id": "4c25dcad",
   "metadata": {},
   "outputs": [],
   "source": [
    "import numpy as np\n",
    "import math\n",
    "import scipy\n",
    "import matplotlib.pyplot as plt\n",
    "import seaborn as sns\n",
    "import functions as myfunc\n",
    "\n",
    "sns.set_theme()"
   ]
  },
  {
   "cell_type": "code",
   "execution_count": 2,
   "id": "21db8a4a",
   "metadata": {},
   "outputs": [],
   "source": [
    "def alpha(x):\n",
    "    \"\"\"\n",
    "    Piecewise function for alpha(x):\n",
    "    - 3 in [1.5, 2.7]\n",
    "    - x^2 elsewhere\n",
    "    \"\"\"\n",
    "    x = np.asarray(x)\n",
    "    return np.where((1.5 <= x) & (x <= 2.7), 3.0, np.square(x))\n",
    "\n",
    "def beta(x):\n",
    "    \"\"\"\n",
    "    Piecewise function for beta(x):\n",
    "    - x / (x+1) in [1, 2]\n",
    "    - x^2 elsewhere\n",
    "    \"\"\"\n",
    "    x = np.asarray(x)\n",
    "    return np.where((1 <= x) & (x <= 2), x / (x + 1), np.square(x))\n",
    "\n",
    "def rhs(x):\n",
    "    \"\"\"\n",
    "    Right-hand side f(x):\n",
    "    - x in [2, 4]\n",
    "    - x + 1 elsewhere\n",
    "    \"\"\"\n",
    "    x = np.asarray(x)\n",
    "    return np.where((2 <= x) & (x <= 4), x, x + 1)"
   ]
  },
  {
   "cell_type": "code",
   "execution_count": 3,
   "id": "f92712d7",
   "metadata": {},
   "outputs": [],
   "source": [
    "DOMAIN_BOUNDARY = {\n",
    "    \"Lower Bound\": 1,\n",
    "    \"Upper Bound\": 4\n",
    "}\n",
    "BOUNDARY_CONDITION = {\n",
    "    \"Lower Bound\": {\n",
    "        \"x\": DOMAIN_BOUNDARY[\"Lower Bound\"],\n",
    "        \"Phi\": np.exp(DOMAIN_BOUNDARY[\"Lower Bound\"])\n",
    "    },\n",
    "    \"Upper Bound\": {\n",
    "        \"x\": DOMAIN_BOUNDARY[\"Upper Bound\"],\n",
    "        \"Phi\": np.exp(DOMAIN_BOUNDARY[\"Upper Bound\"])\n",
    "    }\n",
    "}"
   ]
  },
  {
   "cell_type": "markdown",
   "id": "09dea71c",
   "metadata": {},
   "source": [
    "## Define Elements"
   ]
  },
  {
   "cell_type": "code",
   "execution_count": 4,
   "id": "2c28f0b9",
   "metadata": {},
   "outputs": [
    {
     "name": "stdout",
     "output_type": "stream",
     "text": [
      "[1.   1.75 2.5  3.25 4.  ]\n",
      "[[0 1]\n",
      " [1 2]\n",
      " [2 3]\n",
      " [3 4]]\n",
      "{'Lower Bound': {'x': 1, 'Phi': np.float64(2.718281828459045), 'x Index': np.int64(0)}, 'Upper Bound': {'x': 4, 'Phi': np.float64(54.598150033144236), 'x Index': np.int64(4)}}\n"
     ]
    }
   ],
   "source": [
    "NUMBER_OF_NODES = 5\n",
    "element_nodes = np.linspace(DOMAIN_BOUNDARY[\"Lower Bound\"], DOMAIN_BOUNDARY[\"Upper Bound\"], num=NUMBER_OF_NODES)\n",
    "print(element_nodes)\n",
    "\n",
    "element_indices = myfunc.get_edge_indices(element_nodes)\n",
    "print(element_indices)\n",
    "\n",
    "# Append boundary dict with index position of x value\n",
    "BOUNDARY_CONDITION[\"Lower Bound\"][\"x Index\"] = np.where(element_nodes == BOUNDARY_CONDITION[\"Lower Bound\"][\"x\"])[0][0]\n",
    "BOUNDARY_CONDITION[\"Upper Bound\"][\"x Index\"] = np.where(element_nodes == BOUNDARY_CONDITION[\"Upper Bound\"][\"x\"])[0][0]\n",
    "print(BOUNDARY_CONDITION)"
   ]
  },
  {
   "cell_type": "markdown",
   "id": "e19abac6",
   "metadata": {},
   "source": [
    "## Create Domain Matrix by generating matrix values for each element"
   ]
  },
  {
   "cell_type": "code",
   "execution_count": 5,
   "id": "ef08f9a2",
   "metadata": {},
   "outputs": [
    {
     "name": "stdout",
     "output_type": "stream",
     "text": [
      "[{'Start Index': np.int64(0), 'End Index': np.int64(1), 'Coefficients': array([[ 2.66557018, -2.44846491],\n",
      "       [-2.44846491,  2.66557018]]), 'Right Hand Side': array([0.890625, 0.890625])}, {'Start Index': np.int64(1), 'End Index': np.int64(2), 'Coefficients': array([[ 5.12890625, -3.43554688],\n",
      "       [-3.43554688,  5.12890625]]), 'Right Hand Side': array([0.796875, 0.796875])}, {'Start Index': np.int64(2), 'End Index': np.int64(3), 'Coefficients': array([[13.08723958, -9.98763021],\n",
      "       [-9.98763021, 13.08723958]]), 'Right Hand Side': array([1.078125, 1.078125])}, {'Start Index': np.int64(3), 'End Index': np.int64(4), 'Coefficients': array([[ 20.80598958, -15.87825521],\n",
      "       [-15.87825521,  20.80598958]]), 'Right Hand Side': array([1.359375, 1.359375])}]\n"
     ]
    }
   ],
   "source": [
    "elements = []\n",
    "for indices in element_indices:\n",
    "    element = myfunc.assemble_element(element_nodes, indices[0], indices[1], alpha, beta, rhs)\n",
    "    elements.append(element)\n",
    "\n",
    "print(elements)"
   ]
  },
  {
   "cell_type": "code",
   "execution_count": 6,
   "id": "e339ca84",
   "metadata": {},
   "outputs": [
    {
     "ename": "IndexError",
     "evalue": "index 4 is out of bounds for axis 0 with size 4",
     "output_type": "error",
     "traceback": [
      "\u001b[31m---------------------------------------------------------------------------\u001b[39m",
      "\u001b[31mIndexError\u001b[39m                                Traceback (most recent call last)",
      "\u001b[36mCell\u001b[39m\u001b[36m \u001b[39m\u001b[32mIn[6]\u001b[39m\u001b[32m, line 1\u001b[39m\n\u001b[32m----> \u001b[39m\u001b[32m1\u001b[39m coefficients_matrix, rhs_matrix = \u001b[43mmyfunc\u001b[49m\u001b[43m.\u001b[49m\u001b[43mcreate_globaL_les\u001b[49m\u001b[43m(\u001b[49m\u001b[43melements\u001b[49m\u001b[43m,\u001b[49m\u001b[43m \u001b[49m\u001b[43mBOUNDARY_CONDITION\u001b[49m\u001b[43m)\u001b[49m\n",
      "\u001b[36mFile \u001b[39m\u001b[32mc:\\Users\\Jax\\Coding\\Finite-Element-Solver\\Übungsaufgaben\\Übung FEM 1D\\functions.py:63\u001b[39m, in \u001b[36mcreate_globaL_les\u001b[39m\u001b[34m(elements, boundary_condition)\u001b[39m\n\u001b[32m     61\u001b[39m     \u001b[38;5;66;03m# remove row from coefficients_matrix: \u001b[39;00m\n\u001b[32m     62\u001b[39m coefficients_matrix = np.delete(coefficients_matrix, boundary_condition[\u001b[33m\"\u001b[39m\u001b[33mLower Bound\u001b[39m\u001b[33m\"\u001b[39m][\u001b[33m\"\u001b[39m\u001b[33mx Index\u001b[39m\u001b[33m\"\u001b[39m], axis=\u001b[32m0\u001b[39m)\n\u001b[32m---> \u001b[39m\u001b[32m63\u001b[39m coefficients_matrix = \u001b[43mnp\u001b[49m\u001b[43m.\u001b[49m\u001b[43mdelete\u001b[49m\u001b[43m(\u001b[49m\u001b[43mcoefficients_matrix\u001b[49m\u001b[43m,\u001b[49m\u001b[43m \u001b[49m\u001b[43mboundary_condition\u001b[49m\u001b[43m[\u001b[49m\u001b[33;43m\"\u001b[39;49m\u001b[33;43mUpper Bound\u001b[39;49m\u001b[33;43m\"\u001b[39;49m\u001b[43m]\u001b[49m\u001b[43m[\u001b[49m\u001b[33;43m\"\u001b[39;49m\u001b[33;43mx Index\u001b[39;49m\u001b[33;43m\"\u001b[39;49m\u001b[43m]\u001b[49m\u001b[43m,\u001b[49m\u001b[43m \u001b[49m\u001b[43maxis\u001b[49m\u001b[43m=\u001b[49m\u001b[32;43m0\u001b[39;49m\u001b[43m)\u001b[49m\n\u001b[32m     65\u001b[39m \u001b[38;5;66;03m# remove row from right_hand_side_matrix\u001b[39;00m\n\u001b[32m     66\u001b[39m rhs_matrix = np.delete(rhs_matrix, boundary_condition[\u001b[33m\"\u001b[39m\u001b[33mLower Bound\u001b[39m\u001b[33m\"\u001b[39m][\u001b[33m\"\u001b[39m\u001b[33mx Index\u001b[39m\u001b[33m\"\u001b[39m], axis=\u001b[32m0\u001b[39m)\n",
      "\u001b[36mFile \u001b[39m\u001b[32mc:\\Users\\Jax\\Coding\\Finite-Element-Solver\\.venv\\Lib\\site-packages\\numpy\\lib\\_function_base_impl.py:5420\u001b[39m, in \u001b[36mdelete\u001b[39m\u001b[34m(arr, obj, axis)\u001b[39m\n\u001b[32m   5417\u001b[39m \u001b[38;5;28;01mif\u001b[39;00m single_value:\n\u001b[32m   5418\u001b[39m     \u001b[38;5;66;03m# optimization for a single value\u001b[39;00m\n\u001b[32m   5419\u001b[39m     \u001b[38;5;28;01mif\u001b[39;00m (obj < -N \u001b[38;5;129;01mor\u001b[39;00m obj >= N):\n\u001b[32m-> \u001b[39m\u001b[32m5420\u001b[39m         \u001b[38;5;28;01mraise\u001b[39;00m \u001b[38;5;167;01mIndexError\u001b[39;00m(\n\u001b[32m   5421\u001b[39m             \u001b[33m\"\u001b[39m\u001b[33mindex \u001b[39m\u001b[38;5;132;01m%i\u001b[39;00m\u001b[33m is out of bounds for axis \u001b[39m\u001b[38;5;132;01m%i\u001b[39;00m\u001b[33m with \u001b[39m\u001b[33m\"\u001b[39m\n\u001b[32m   5422\u001b[39m             \u001b[33m\"\u001b[39m\u001b[33msize \u001b[39m\u001b[38;5;132;01m%i\u001b[39;00m\u001b[33m\"\u001b[39m % (obj, axis, N))\n\u001b[32m   5423\u001b[39m     \u001b[38;5;28;01mif\u001b[39;00m (obj < \u001b[32m0\u001b[39m):\n\u001b[32m   5424\u001b[39m         obj += N\n",
      "\u001b[31mIndexError\u001b[39m: index 4 is out of bounds for axis 0 with size 4"
     ]
    }
   ],
   "source": [
    "coefficients_matrix, rhs_matrix = myfunc.create_globaL_les(elements, BOUNDARY_CONDITION)"
   ]
  },
  {
   "cell_type": "code",
   "execution_count": 7,
   "id": "9794bc46",
   "metadata": {},
   "outputs": [
    {
     "ename": "NameError",
     "evalue": "name 'coefficients_matrix' is not defined",
     "output_type": "error",
     "traceback": [
      "\u001b[31m---------------------------------------------------------------------------\u001b[39m",
      "\u001b[31mNameError\u001b[39m                                 Traceback (most recent call last)",
      "\u001b[36mCell\u001b[39m\u001b[36m \u001b[39m\u001b[32mIn[7]\u001b[39m\u001b[32m, line 1\u001b[39m\n\u001b[32m----> \u001b[39m\u001b[32m1\u001b[39m solution = myfunc.solve_leq(\u001b[43mcoefficients_matrix\u001b[49m, rhs_matrix, BOUNDARY_CONDITION)\n",
      "\u001b[31mNameError\u001b[39m: name 'coefficients_matrix' is not defined"
     ]
    }
   ],
   "source": [
    "solution = myfunc.solve_leq(coefficients_matrix, rhs_matrix, BOUNDARY_CONDITION)"
   ]
  },
  {
   "cell_type": "code",
   "execution_count": null,
   "id": "280f938c",
   "metadata": {},
   "outputs": [],
   "source": [
    "myfunc.plot_solution(solution, BOUNDARY_CONDITION)"
   ]
  }
 ],
 "metadata": {
  "kernelspec": {
   "display_name": ".venv",
   "language": "python",
   "name": "python3"
  },
  "language_info": {
   "codemirror_mode": {
    "name": "ipython",
    "version": 3
   },
   "file_extension": ".py",
   "mimetype": "text/x-python",
   "name": "python",
   "nbconvert_exporter": "python",
   "pygments_lexer": "ipython3",
   "version": "3.13.3"
  }
 },
 "nbformat": 4,
 "nbformat_minor": 5
}
